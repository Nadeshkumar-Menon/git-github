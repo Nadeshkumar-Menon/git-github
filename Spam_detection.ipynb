{
  "nbformat": 4,
  "nbformat_minor": 0,
  "metadata": {
    "colab": {
      "provenance": [],
      "authorship_tag": "ABX9TyPXbYKvyZVfmFGvwYueYxJl",
      "include_colab_link": true
    },
    "kernelspec": {
      "name": "python3",
      "display_name": "Python 3"
    },
    "language_info": {
      "name": "python"
    }
  },
  "cells": [
    {
      "cell_type": "markdown",
      "metadata": {
        "id": "view-in-github",
        "colab_type": "text"
      },
      "source": [
        "<a href=\"https://colab.research.google.com/github/Nadeshkumar-Menon/git-github/blob/master/Spam_detection.ipynb\" target=\"_parent\"><img src=\"https://colab.research.google.com/assets/colab-badge.svg\" alt=\"Open In Colab\"/></a>"
      ]
    },
    {
      "cell_type": "markdown",
      "source": [
        "Logistic regression tells the probability and is usually used for classification"
      ],
      "metadata": {
        "id": "J53d8BW38YRg"
      }
    },
    {
      "cell_type": "markdown",
      "source": [
        "Importing necessary Packages"
      ],
      "metadata": {
        "id": "oH3p0c868Gbx"
      }
    },
    {
      "cell_type": "code",
      "execution_count": 2,
      "metadata": {
        "id": "ezOoWIW55-hR"
      },
      "outputs": [],
      "source": [
        "import numpy as np\n",
        "import pandas as pd\n",
        "from sklearn.model_selection import train_test_split\n",
        "from sklearn.feature_extraction.text import TfidfVectorizer\n",
        "from sklearn.linear_model import LogisticRegression\n",
        "from sklearn.metrics import accuracy_score"
      ]
    },
    {
      "cell_type": "markdown",
      "source": [
        "Data Collection and Data Preprocessing"
      ],
      "metadata": {
        "id": "B1N_4Ibe798q"
      }
    },
    {
      "cell_type": "code",
      "source": [
        "#Loading data from csv to pandas\n",
        "raw_data = pd.read_csv('/content/spam_mail_data.csv')\n"
      ],
      "metadata": {
        "id": "aH_YImh67vmj"
      },
      "execution_count": 3,
      "outputs": []
    },
    {
      "cell_type": "code",
      "source": [
        "#Replace null values with null string\n",
        "mail_data = raw_data.fillna('')"
      ],
      "metadata": {
        "id": "E7jCoMUm8crZ"
      },
      "execution_count": 5,
      "outputs": []
    },
    {
      "cell_type": "code",
      "source": [
        "# mail_data.head(5)\n",
        "mail_data.shape"
      ],
      "metadata": {
        "colab": {
          "base_uri": "https://localhost:8080/"
        },
        "id": "0uxEg_vY9Ihi",
        "outputId": "97260f59-0903-47c7-ecc1-46be038cb2b6"
      },
      "execution_count": 7,
      "outputs": [
        {
          "output_type": "execute_result",
          "data": {
            "text/plain": [
              "(5572, 2)"
            ]
          },
          "metadata": {},
          "execution_count": 7
        }
      ]
    },
    {
      "cell_type": "markdown",
      "source": [
        "Label encoding - Replace ham as 1 and spam as 0"
      ],
      "metadata": {
        "id": "dlw-OMbc9v7K"
      }
    },
    {
      "cell_type": "code",
      "source": [
        "mail_data.loc[mail_data['Category'] == 'spam','Category',] = 0\n",
        "mail_data.loc[mail_data['Category'] == 'ham','Category',] = 1"
      ],
      "metadata": {
        "id": "F9cS_sEI9jbh"
      },
      "execution_count": 8,
      "outputs": []
    },
    {
      "cell_type": "markdown",
      "source": [
        "Seperate data to text and labels"
      ],
      "metadata": {
        "id": "W4ZIGPud-8dQ"
      }
    },
    {
      "cell_type": "code",
      "source": [
        "X = mail_data['Message']\n",
        "Y = mail_data['Category']"
      ],
      "metadata": {
        "id": "a4qQdcse-zJa"
      },
      "execution_count": 13,
      "outputs": []
    },
    {
      "cell_type": "markdown",
      "source": [
        "Create a test set and a train set. 80 percent as train data and 20 percent as test data"
      ],
      "metadata": {
        "id": "hvkwiLma_Zxp"
      }
    },
    {
      "cell_type": "code",
      "source": [
        "X_train, X_test, y_train, y_test = train_test_split(X,Y,test_size=0.2, random_state=3)"
      ],
      "metadata": {
        "id": "CqfsmwO6_UcZ"
      },
      "execution_count": 14,
      "outputs": []
    },
    {
      "cell_type": "markdown",
      "source": [
        "Feature Extraction\n"
      ],
      "metadata": {
        "id": "_n2UYy9EA6dq"
      }
    },
    {
      "cell_type": "code",
      "source": [
        "#Transform text data to feature vectors to be used as input to logistic regression model\n",
        "feature_extraction = TfidfVectorizer(min_df=1,stop_words='english',lowercase='True')"
      ],
      "metadata": {
        "id": "nhtiSM5Z_VVC"
      },
      "execution_count": 15,
      "outputs": []
    },
    {
      "cell_type": "code",
      "source": [
        "X_train_feature = feature_extraction.fit_transform(X_train)\n",
        "X_test_feature = feature_extraction.transform(X_test)\n",
        "\n",
        "y_train = y_train.astype('int')\n",
        "y_test = y_test.astype('int')"
      ],
      "metadata": {
        "id": "27N_59URDAor"
      },
      "execution_count": 16,
      "outputs": []
    },
    {
      "cell_type": "markdown",
      "source": [
        "Train the logistic regression model"
      ],
      "metadata": {
        "id": "r42VlCOsEL5K"
      }
    },
    {
      "cell_type": "code",
      "source": [
        "model = LogisticRegression()"
      ],
      "metadata": {
        "id": "2UU2Njg2EPM5"
      },
      "execution_count": 19,
      "outputs": []
    },
    {
      "cell_type": "code",
      "source": [
        "#Train using training data\n",
        "model.fit(X_train_feature,y_train)"
      ],
      "metadata": {
        "colab": {
          "base_uri": "https://localhost:8080/"
        },
        "id": "Ve7_jQbbEWi6",
        "outputId": "de8358c2-405c-47da-9788-a3a4bd2e34b3"
      },
      "execution_count": 20,
      "outputs": [
        {
          "output_type": "execute_result",
          "data": {
            "text/plain": [
              "LogisticRegression()"
            ]
          },
          "metadata": {},
          "execution_count": 20
        }
      ]
    },
    {
      "cell_type": "code",
      "source": [
        "#Prediction on training data\n",
        "prediction_train = model.predict(X_train_feature)\n",
        "accuracy_train = accuracy_score(y_train,prediction_train)"
      ],
      "metadata": {
        "id": "cA-h5t39ErSx"
      },
      "execution_count": 21,
      "outputs": []
    },
    {
      "cell_type": "code",
      "source": [
        "print('Accuracy percent on training data = ',accuracy_train*100)"
      ],
      "metadata": {
        "colab": {
          "base_uri": "https://localhost:8080/"
        },
        "id": "Hzdzfn6aFRFC",
        "outputId": "329bc0a5-8578-4248-e6ea-fc2c8102925a"
      },
      "execution_count": 24,
      "outputs": [
        {
          "output_type": "stream",
          "name": "stdout",
          "text": [
            "Accuracy percent on training data =  96.70181736594121\n"
          ]
        }
      ]
    },
    {
      "cell_type": "code",
      "source": [
        "#Prediction and accuracy for test data\n",
        "prediction_test = model.predict(X_test_feature)\n",
        "accuracy_test = accuracy_score(y_test,prediction_test)"
      ],
      "metadata": {
        "id": "1Ve3aiueFgib"
      },
      "execution_count": 25,
      "outputs": []
    },
    {
      "cell_type": "code",
      "source": [
        "print('Accuracy percent on test data = ',accuracy_test*100)"
      ],
      "metadata": {
        "colab": {
          "base_uri": "https://localhost:8080/"
        },
        "outputId": "3716f49f-5743-4bdd-be8e-f42c6cd620f8",
        "id": "z-wsJ8vPF1pS"
      },
      "execution_count": 26,
      "outputs": [
        {
          "output_type": "stream",
          "name": "stdout",
          "text": [
            "Accuracy percent on test data =  96.59192825112108\n"
          ]
        }
      ]
    },
    {
      "cell_type": "markdown",
      "source": [
        "## Build a predictive system -\n",
        "\n",
        "features = feature_extraction.transform(input)</br>\n",
        "prediction = model.predict(features)</br>\n",
        "print(prediction)"
      ],
      "metadata": {
        "id": "tcxYSO1QG7Qz"
      }
    },
    {
      "cell_type": "code",
      "source": [],
      "metadata": {
        "id": "OSNkdMlxG636"
      },
      "execution_count": null,
      "outputs": []
    },
    {
      "cell_type": "code",
      "source": [],
      "metadata": {
        "id": "p-Se385pG6nz"
      },
      "execution_count": null,
      "outputs": []
    }
  ]
}